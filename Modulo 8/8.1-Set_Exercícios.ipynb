{
 "cells": [
  {
   "cell_type": "markdown",
   "id": "0d5035b5",
   "metadata": {},
   "source": [
    "# Set\n",
    "\n",
    "## Aula 8.1"
   ]
  },
  {
   "cell_type": "markdown",
   "id": "0bdece85",
   "metadata": {},
   "source": [
    "### Q1. \n",
    "\n",
    "Dada uma string qualquer, use seu conhecimento de sets para apresentar os caracteres únicos que aparecem na string, ordenados alfabeticamente e sem duplicatas. Preste atenção em duplicatas de maiúsculas e minúsculas.\n"
   ]
  },
  {
   "cell_type": "code",
   "execution_count": null,
   "id": "0a258eba",
   "metadata": {},
   "outputs": [],
   "source": [
    "frase = \"O rato roeu a roupa do Robson\"\n",
    "\n",
    "caracteres_unicos = set(frase.replace(\" \", \"\").lower())\n",
    "\n",
    "caracteres_ordenados = sorted(caracteres_unicos)\n",
    "\n",
    "resultado = ''.join(caracteres_ordenados)\n",
    "\n",
    "print(resultado)\n",
    "\n"
   ]
  },
  {
   "cell_type": "markdown",
   "id": "0856bd56",
   "metadata": {},
   "source": [
    "### Q2\n",
    "\n",
    "Desenvolva uma função em Python chamada ```tem_elementos_comuns()``` que recebe duas listas como parâmetros e retorna True se houver algum elemento comum entre as duas listas, e False caso contrário. Utilize sets para resolver essa tarefa."
   ]
  },
  {
   "cell_type": "code",
   "execution_count": null,
   "id": "f7ab6736",
   "metadata": {},
   "outputs": [],
   "source": [
    "def tem_elementos_comuns(lista1, lista2):\n",
    "    \n",
    "    set1 = set(lista1)\n",
    "    set2 = set(lista2)\n",
    "    \n",
    "    \n",
    "    return not set1.isdisjoint(set2)\n",
    "\n",
    "\n",
    "lista1 = [1, 2, 3, 4]\n",
    "lista2 = [4, 5, 6, 7]\n",
    "\n",
    "print(tem_elementos_comuns(lista1, lista2))  \n",
    "\n",
    "lista3 = [8, 9, 10]\n",
    "lista4 = [11, 12, 13]\n",
    "\n",
    "print(tem_elementos_comuns(lista3, lista4))\n",
    "\n"
   ]
  },
  {
   "cell_type": "code",
   "execution_count": null,
   "id": "1022744a",
   "metadata": {},
   "outputs": [],
   "source": [
    "def tem_elementos_comuns(lista1, lista2):\n",
    "    \n",
    "    set1 = set(lista1)\n",
    "    set2 = set(lista2)\n",
    "    \n",
    "    \n",
    "    return not set1.isdisjoint(set2)\n",
    "\n",
    "lista1 = [1, 2, 3, 4]\n",
    "lista2 = [3, 4, 5, 6, 7]\n",
    "resultado = tem_elementos_comuns(lista1, lista2)\n",
    "print(resultado) "
   ]
  },
  {
   "cell_type": "markdown",
   "id": "649a5082",
   "metadata": {},
   "source": [
    "### Q3. \n",
    "\n",
    "Você vai coletar de diferentes turmas de alunos seus interesses em atividades extra curriculares dentre futebol, vôlei, rugby, música, teatro, ações comunitárias. Informe o conjunto de atividades comuns a todas a turmas. Pode preencher o iterável turmas com valores arbitrários. \n"
   ]
  },
  {
   "cell_type": "code",
   "execution_count": null,
   "id": "880a9927",
   "metadata": {},
   "outputs": [],
   "source": [
    "\n",
    "turmas = [\n",
    "    {'ações comunitárias', 'futebol', 'música', 'rugby'},\n",
    "    {'ações comunitárias', 'música', 'rugby', 'teatro'},\n",
    "    {'música', 'rugby', 'teatro', 'vôlei'},\n",
    "    {'música', 'vôlei', 'rugby'},\n",
    "    {'ações comunitárias', 'futebol', 'rugby', 'teatro', 'vôlei'},\n",
    "    {'ações comunitárias', 'futebol', 'rugby'},\n",
    "    {'ações comunitárias', 'rugby', 'teatro', 'vôlei'},\n",
    "    {'ações comunitárias', 'rugby', 'teatro', 'vôlei'},\n",
    "    {'ações comunitárias', 'rugby', 'vôlei'}\n",
    "]\n",
    "\n",
    "def atividades_comuns(turmas):\n",
    "    if not turmas:\n",
    "        return set()\n",
    "    \n",
    "\n",
    "    atividades_comuns = turmas[0]\n",
    "    \n",
    "   \n",
    "    for turma in turmas[1:]:\n",
    "        atividades_comuns.intersection_update(turma)\n",
    "    \n",
    "    return atividades_comuns\n",
    "\n",
    "\n",
    "resultado = atividades_comuns(turmas)\n",
    "print(resultado)\n",
    "\n"
   ]
  },
  {
   "cell_type": "markdown",
   "id": "021e2b1e",
   "metadata": {},
   "source": [
    "### Q4. \n",
    "Considere duas listas que são duplicatas uma da outra, exceto por um elemento, exemplo:\n",
    "```\n",
    "A = [1, 4, 5, 7, 9]\n",
    "B = [4, 5, 7, 9]\n",
    "```\n",
    "\n",
    "Encontre e apresente o elemento diferente, informando também qual das listas está desfalcada. Para o exemplo acima, a saída esperada é\n",
    "```\n",
    "O elemento 1 está faltando na segunda lista\n",
    "```"
   ]
  },
  {
   "cell_type": "code",
   "execution_count": null,
   "id": "608761a4",
   "metadata": {},
   "outputs": [],
   "source": [
    "def encontrar_elemento_faltante(A, B):\n",
    "   \n",
    "    set_A = set(A)\n",
    "    set_B = set(B)\n",
    "    \n",
    "   \n",
    "    diferenca_A = set_A - set_B\n",
    "    diferenca_B = set_B - set_A\n",
    "    \n",
    "    \n",
    "    if diferenca_A:\n",
    "        elemento_faltante = diferenca_A.pop()\n",
    "        return f\"O elemento {elemento_faltante} está faltando na segunda lista\"\n",
    "    elif diferenca_B:\n",
    "        elemento_faltante = diferenca_B.pop()\n",
    "        return f\"O elemento {elemento_faltante} está faltando na primeira lista\"\n",
    "    else:\n",
    "        return \"As listas são iguais\"\n",
    "\n",
    "\n",
    "A = [1, 4, 5, 7, 9]\n",
    "B = [4, 5, 7, 9]\n",
    "\n",
    "resultado = encontrar_elemento_faltante(A, B)\n",
    "print(resultado)"
   ]
  },
  {
   "cell_type": "markdown",
   "id": "ddf180c1",
   "metadata": {},
   "source": [
    "### Q5.\n",
    "\n",
    "Panagramas são frases que contém todas as letras do alfabeto pelo menos uma vez. Crie uma função ```checa_panagrama``` que recebe uma string e retorna ```True``` caso seja um panagrama ou ```False```caso contrário. Use seu conhecimento de sets para solucionar essa questão.\n",
    "\n",
    "Ex: \n",
    "```\n",
    "Entrada: \"The quick brown fox jumps over the lazy dog\" \n",
    "Saída: É um panagrama\n",
    "```\n",
    "\n",
    "```\n",
    "Entrada: \"Python é uma linguagem de programação\" \n",
    "Saída: Não é um panagrama\n",
    "```"
   ]
  },
  {
   "cell_type": "code",
   "execution_count": null,
   "id": "4e8b0390",
   "metadata": {},
   "outputs": [],
   "source": [
    "import string\n",
    "\n",
    "def checa_panagrama(frase):\n",
    "   \n",
    "    frase = frase.lower()\n",
    "    \n",
    "   \n",
    "    alfabeto = set(string.ascii_lowercase)\n",
    "    \n",
    "    \n",
    "    letras_na_frase = set(c for c in frase if c in alfabeto)\n",
    "    \n",
    "    \n",
    "    return letras_na_frase == alfabeto\n",
    "\n",
    "\n",
    "frase1 = \"O rápido castanho pula sobre o cachorro preguiçoso\"\n",
    "frase2 = \"O rápido castanho pula sobre o cachorro\"\n",
    "\n",
    "print(checa_panagrama(frase1))  \n",
    "print(checa_panagrama(frase2))  "
   ]
  }
 ],
 "metadata": {
  "kernelspec": {
   "display_name": "Python 3 (ipykernel)",
   "language": "python",
   "name": "python3"
  },
  "language_info": {
   "codemirror_mode": {
    "name": "ipython",
    "version": 3
   },
   "file_extension": ".py",
   "mimetype": "text/x-python",
   "name": "python",
   "nbconvert_exporter": "python",
   "pygments_lexer": "ipython3",
   "version": "3.9.6"
  }
 },
 "nbformat": 4,
 "nbformat_minor": 5
}
