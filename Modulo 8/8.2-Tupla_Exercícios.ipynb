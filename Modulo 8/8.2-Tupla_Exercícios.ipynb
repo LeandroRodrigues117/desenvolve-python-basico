{
 "cells": [
  {
   "cell_type": "markdown",
   "id": "0d5035b5",
   "metadata": {},
   "source": [
    "# Tupla\n",
    "\n",
    "## Aula 8.2"
   ]
  },
  {
   "cell_type": "markdown",
   "id": "0bdece85",
   "metadata": {},
   "source": [
    "### Q1. \n",
    "\n",
    "Escreva uma função ```calcula_area_perimetro``` que recebe **apenas um parâmetro** ```dimensoes``` e calcula a área e o perímetro a partir das dimensões dadas. \n",
    "- ```dimensoes``` é uma tupla (largura, comprimento) com as dimensões de um terreno retangular\n",
    "- Sua função deve calcular e retornar as seguintes operações\n",
    "   - $area = largura \\times comprimento$\n",
    "   - $perimetro = 2\\times(largura + comprimento)$\n"
   ]
  },
  {
   "cell_type": "code",
   "execution_count": null,
   "id": "0a258eba",
   "metadata": {},
   "outputs": [],
   "source": [
    "def calcula_area_perimetro(dimensoes):\n",
    "  \n",
    "    largura, comprimento = dimensoes\n",
    "    \n",
    " \n",
    "    area = largura * comprimento\n",
    "    \n",
    " \n",
    "    perimetro = 2 * (largura + comprimento)\n",
    "    \n",
    "  \n",
    "    return area, perimetro\n",
    "\n",
    "\n"
   ]
  },
  {
   "cell_type": "code",
   "execution_count": null,
   "id": "e1866c04",
   "metadata": {},
   "outputs": [],
   "source": [
    "dimensoes1 = (5, 10)\n",
    "dimensoes2 = (7, 3)\n",
    "\n",
    "area1, perimetro1 = calcula_area_perimetro(dimensoes1)\n",
    "area2, perimetro2 = calcula_area_perimetro(dimensoes2)\n",
    "\n",
    "print(f\"Para dimensões {dimensoes1}: Área = {area1}, Perímetro = {perimetro1}\")\n",
    "print(f\"Para dimensões {dimensoes2}: Área = {area2}, Perímetro = {perimetro2}\")\n"
   ]
  },
  {
   "cell_type": "markdown",
   "id": "cbdcb986",
   "metadata": {},
   "source": [
    "### Q2.\n",
    "\n",
    "Dada uma string, imprima todas as vogais que aparecem na string, bem como todos os índices onde elas ocorrem. Para isso, use a função ```enumerate```.\n"
   ]
  },
  {
   "cell_type": "code",
   "execution_count": null,
   "id": "1f6b1f2d",
   "metadata": {},
   "outputs": [],
   "source": [
    "def imprimir_vogais_e_indices(frase):\n",
    "  \n",
    "    vogais = 'aeiouAEIOU'\n",
    "    \n",
    "   \n",
    "    for indice, caractere in enumerate(frase):\n",
    "        \n",
    "        if caractere in vogais:\n",
    "            print(f\"Vogal '{caractere}' encontrada no índice {indice}\")\n",
    "\n",
    "\n",
    "frase = \"O rato roeu a roupa da Alice\"\n",
    "imprimir_vogais_e_indices(frase)"
   ]
  },
  {
   "cell_type": "markdown",
   "id": "8d46663f",
   "metadata": {},
   "source": [
    "### Q3.\n",
    "\n",
    "Escreva uma função em Python chamada ```ordenar_tuplas``` que recebe uma lista de tuplas, cada uma contendo o nome de um aluno e sua respectiva média, e retorna uma nova lista ordenada em ordem decrescente de médias."
   ]
  },
  {
   "cell_type": "code",
   "execution_count": null,
   "id": "469f2e6e",
   "metadata": {},
   "outputs": [],
   "source": [
    "def ordenar_tuplas(lista_tuplas):\n",
    "   \n",
    "    lista_ordenada = sorted(lista_tuplas, key=lambda x: x[1], reverse=True)\n",
    "    return lista_ordenada\n",
    "\n",
    "\n"
   ]
  },
  {
   "cell_type": "code",
   "execution_count": null,
   "id": "1972c62b",
   "metadata": {},
   "outputs": [],
   "source": [
    "alunos_notas = [('Alice', 8.5), ('Bob', 7.2), ('Charlie', 9.0), ('David', 8.8)]\n",
    "resultado = ordenar_tuplas(alunos_notas)\n",
    "print(resultado)"
   ]
  },
  {
   "cell_type": "markdown",
   "id": "e0268fae",
   "metadata": {},
   "source": [
    "### Q4.\n",
    "\n",
    "Escreva uma função em Python chamada ```comprimir_tuplas``` que recebe uma lista de tuplas, cada uma contendo uma palavra e um número, e retorna uma nova lista de tuplas onde palavras idênticas são agrupadas e seus números são somados.\n",
    "\n"
   ]
  },
  {
   "cell_type": "code",
   "execution_count": null,
   "id": "30a221f3",
   "metadata": {},
   "outputs": [],
   "source": [
    "def comprimir_tuplas(tuplas):\n",
    "    \n",
    "    dicionario = {}\n",
    "    \n",
    "    for palavra, numero in tuplas:\n",
    "        if palavra in dicionario:\n",
    "            dicionario[palavra] += numero\n",
    "        else:\n",
    "            dicionario[palavra] = numero\n",
    "    \n",
    "   \n",
    "    lista_comprimida = list(dicionario.items())\n",
    "    \n",
    "    return lista_comprimida\n",
    "\n",
    "\n"
   ]
  },
  {
   "cell_type": "code",
   "execution_count": null,
   "id": "80972bac",
   "metadata": {},
   "outputs": [],
   "source": [
    "tuplas_originais = [('maçã', 3), ('banana', 2), ('maçã', 5), ('laranja', 1), ('banana', 3)]\n",
    "resultado = comprimir_tuplas(tuplas_originais)\n",
    "print(resultado)"
   ]
  },
  {
   "cell_type": "markdown",
   "id": "649a5082",
   "metadata": {},
   "source": [
    "### Q5. \n",
    "\n",
    "- Escreva um script que peça o nome e a idade de todos na fila de uma balada. Crie uma lista de tuplas com os pares ```(nome, idade)``` de cada um. \n",
    "- Em seguida crie e imprima duas tuplas apenas com os nomes, uma com os menores de idade que não poderão entrar, e uma com os maiores de idade (```idade >= 18```). \n",
    "\n"
   ]
  },
  {
   "cell_type": "code",
   "execution_count": null,
   "id": "47cb0573",
   "metadata": {},
   "outputs": [],
   "source": [
    "def solicitar_informacoes():\n",
    "    lista_pessoas = []\n",
    "    \n",
    "    while True:\n",
    "        nome = input(\"Digite o nome (ou 'sair' para terminar): \")\n",
    "        if nome.lower() == 'sair':\n",
    "            break\n",
    "        idade = int(input(\"Digite a idade: \"))\n",
    "        lista_pessoas.append((nome, idade))\n",
    "    \n",
    "    return lista_pessoas\n",
    "\n",
    "def separar_por_idade(lista_pessoas):\n",
    "    menores = tuple(nome for nome, idade in lista_pessoas if idade < 18)\n",
    "    maiores = tuple(nome for nome, idade in lista_pessoas if idade >= 18)\n",
    "    \n",
    "    return menores, maiores\n",
    "\n",
    "def main():\n",
    "    lista_pessoas = solicitar_informacoes()\n",
    "    menores, maiores = separar_por_idade(lista_pessoas)\n",
    "    \n",
    "    print(\"Menores de idade (não poderão entrar):\", menores)\n",
    "    print(\"Maiores de idade (podem entrar):\", maiores)\n",
    "\n",
    "if __name__ == \"__main__\":\n",
    "    main()"
   ]
  }
 ],
 "metadata": {
  "kernelspec": {
   "display_name": "Python 3 (ipykernel)",
   "language": "python",
   "name": "python3"
  },
  "language_info": {
   "codemirror_mode": {
    "name": "ipython",
    "version": 3
   },
   "file_extension": ".py",
   "mimetype": "text/x-python",
   "name": "python",
   "nbconvert_exporter": "python",
   "pygments_lexer": "ipython3",
   "version": "3.9.6"
  }
 },
 "nbformat": 4,
 "nbformat_minor": 5
}
